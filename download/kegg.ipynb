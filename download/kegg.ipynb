{
 "cells": [
  {
   "cell_type": "code",
   "execution_count": 1,
   "metadata": {},
   "outputs": [],
   "source": [
    "import json\n",
    "import pandas as pd\n",
    "import urllib\n",
    "import requests"
   ]
  },
  {
   "cell_type": "code",
   "execution_count": 2,
   "metadata": {},
   "outputs": [],
   "source": [
    "import glob\n",
    "\n",
    "def parseFile(path):\n",
    "    genes = []\n",
    "    with open(path) as f:\n",
    "        lines = f.readlines()\n",
    "    index = False\n",
    "    i = 1\n",
    "    for line in lines:\n",
    "        if len(line) < 5:\n",
    "            next\n",
    "        if line[0:4] == 'GENE':\n",
    "            index = True\n",
    "        if line.split()[0] in ['COMPOUND','REL_PATHWAY','REFERENCE'] :\n",
    "            index = False\n",
    "        if index:\n",
    "            if i == 1:\n",
    "                g = line.split()[2]\n",
    "            else:\n",
    "                #print(g)\n",
    "                g = line.split()[1]\n",
    "            i += 1\n",
    "            #print(g)\n",
    "            genes += [g[0:len(g)-1]]\n",
    "    return genes\n"
   ]
  },
  {
   "cell_type": "markdown",
   "metadata": {},
   "source": [
    "## step1：下载kegg的所有pathway对应的json文件\n",
    "https://www.genome.jp/kegg-bin/get_htext#A1"
   ]
  },
  {
   "cell_type": "code",
   "execution_count": 3,
   "metadata": {},
   "outputs": [],
   "source": [
    "kegg_path = 'E:/pathways/KEGG_2021/ko00001.json'\n",
    "with open(kegg_path,encoding='utf-8') as f:\n",
    "    kegg = json.load(f)"
   ]
  },
  {
   "cell_type": "code",
   "execution_count": 4,
   "metadata": {},
   "outputs": [
    {
     "data": {
      "text/plain": [
       "dict_keys(['name', 'children'])"
      ]
     },
     "execution_count": 4,
     "metadata": {},
     "output_type": "execute_result"
    }
   ],
   "source": [
    "kegg.keys()"
   ]
  },
  {
   "cell_type": "code",
   "execution_count": 8,
   "metadata": {},
   "outputs": [
    {
     "data": {
      "text/plain": [
       "2"
      ]
     },
     "execution_count": 8,
     "metadata": {},
     "output_type": "execute_result"
    }
   ],
   "source": [
    "len(kegg)"
   ]
  },
  {
   "cell_type": "code",
   "execution_count": 5,
   "metadata": {},
   "outputs": [
    {
     "name": "stdout",
     "output_type": "stream",
     "text": [
      "09100 Metabolism\n",
      "09120 Genetic Information Processing\n",
      "09130 Environmental Information Processing\n",
      "09140 Cellular Processes\n",
      "09150 Organismal Systems\n",
      "09160 Human Diseases\n",
      "09180 Brite Hierarchies\n",
      "09190 Not Included in Pathway or Brite\n"
     ]
    }
   ],
   "source": [
    "for k in kegg['children']:\n",
    "    print(k['name'])"
   ]
  },
  {
   "cell_type": "markdown",
   "metadata": {},
   "source": [
    "## step2：拿出metabolism对应的pathway的ID"
   ]
  },
  {
   "cell_type": "code",
   "execution_count": 5,
   "metadata": {},
   "outputs": [],
   "source": [
    "metab_lis = kegg['children'][6]['children']"
   ]
  },
  {
   "cell_type": "code",
   "execution_count": 6,
   "metadata": {
    "scrolled": false
   },
   "outputs": [],
   "source": [
    "meta_sum_names = []\n",
    "meta_names = []\n",
    "hsa_names = []\n",
    "for m in metab_lis:\n",
    "    meta_sum_name = m['name']\n",
    "    for m_2 in m['children']:\n",
    "        meta_name_lis = m_2['name'].split('[')\n",
    "        meta_name = meta_name_lis[0]\n",
    "        if len(meta_name_lis)>1 and len(meta_name_lis[1])>0:\n",
    "            meta_names += [meta_name[6:len(meta_name)]]\n",
    "            hsa_names += ['hsa'+meta_name_lis[1][7:len(meta_name_lis[1])-1]]\n",
    "            meta_sum_names += [meta_sum_name]"
   ]
  },
  {
   "cell_type": "code",
   "execution_count": 7,
   "metadata": {},
   "outputs": [],
   "source": [
    "meta_pathway_df = pd.DataFrame({'sum_name' : meta_sum_names, \n",
    "              'meta_name' : meta_names, \n",
    "              'hsa_name' : hsa_names})"
   ]
  },
  {
   "cell_type": "code",
   "execution_count": 8,
   "metadata": {},
   "outputs": [
    {
     "data": {
      "text/html": [
       "<div>\n",
       "<style scoped>\n",
       "    .dataframe tbody tr th:only-of-type {\n",
       "        vertical-align: middle;\n",
       "    }\n",
       "\n",
       "    .dataframe tbody tr th {\n",
       "        vertical-align: top;\n",
       "    }\n",
       "\n",
       "    .dataframe thead th {\n",
       "        text-align: right;\n",
       "    }\n",
       "</style>\n",
       "<table border=\"1\" class=\"dataframe\">\n",
       "  <thead>\n",
       "    <tr style=\"text-align: right;\">\n",
       "      <th></th>\n",
       "      <th>sum_name</th>\n",
       "      <th>meta_name</th>\n",
       "      <th>hsa_name</th>\n",
       "    </tr>\n",
       "  </thead>\n",
       "  <tbody>\n",
       "    <tr>\n",
       "      <th>0</th>\n",
       "      <td>09181 Protein families: metabolism</td>\n",
       "      <td>Enzymes</td>\n",
       "      <td>hsa000</td>\n",
       "    </tr>\n",
       "    <tr>\n",
       "      <th>1</th>\n",
       "      <td>09181 Protein families: metabolism</td>\n",
       "      <td>Protein kinases</td>\n",
       "      <td>hsa001</td>\n",
       "    </tr>\n",
       "    <tr>\n",
       "      <th>2</th>\n",
       "      <td>09181 Protein families: metabolism</td>\n",
       "      <td>Protein phosphatases and associated proteins</td>\n",
       "      <td>hsa009</td>\n",
       "    </tr>\n",
       "    <tr>\n",
       "      <th>3</th>\n",
       "      <td>09181 Protein families: metabolism</td>\n",
       "      <td>Peptidases and inhibitors</td>\n",
       "      <td>hsa002</td>\n",
       "    </tr>\n",
       "    <tr>\n",
       "      <th>4</th>\n",
       "      <td>09181 Protein families: metabolism</td>\n",
       "      <td>Glycosyltransferases</td>\n",
       "      <td>hsa003</td>\n",
       "    </tr>\n",
       "  </tbody>\n",
       "</table>\n",
       "</div>"
      ],
      "text/plain": [
       "                             sum_name  \\\n",
       "0  09181 Protein families: metabolism   \n",
       "1  09181 Protein families: metabolism   \n",
       "2  09181 Protein families: metabolism   \n",
       "3  09181 Protein families: metabolism   \n",
       "4  09181 Protein families: metabolism   \n",
       "\n",
       "                                       meta_name hsa_name  \n",
       "0                                       Enzymes    hsa000  \n",
       "1                               Protein kinases    hsa001  \n",
       "2  Protein phosphatases and associated proteins    hsa009  \n",
       "3                     Peptidases and inhibitors    hsa002  \n",
       "4                          Glycosyltransferases    hsa003  "
      ]
     },
     "execution_count": 8,
     "metadata": {},
     "output_type": "execute_result"
    }
   ],
   "source": [
    "meta_pathway_df.head()"
   ]
  },
  {
   "cell_type": "code",
   "execution_count": 9,
   "metadata": {},
   "outputs": [
    {
     "data": {
      "text/plain": [
       "(55, 3)"
      ]
     },
     "execution_count": 9,
     "metadata": {},
     "output_type": "execute_result"
    }
   ],
   "source": [
    "meta_pathway_df.shape"
   ]
  },
  {
   "cell_type": "markdown",
   "metadata": {},
   "source": [
    "## step3：下载对应链接"
   ]
  },
  {
   "cell_type": "code",
   "execution_count": 10,
   "metadata": {
    "scrolled": true
   },
   "outputs": [
    {
     "name": "stdout",
     "output_type": "stream",
     "text": [
      "hsa000\n",
      "hsa001\n",
      "hsa009\n",
      "hsa002\n",
      "hsa003\n",
      "hsa005\n",
      "hsa011\n",
      "hsa004\n",
      "hsa008\n",
      "hsa006\n",
      "hsa007\n",
      "hsa199\n",
      "hsa194\n",
      "hsa000\n",
      "hsa021\n",
      "hsa019\n",
      "hsa041\n",
      "hsa011\n",
      "hsa009\n",
      "hsa016\n",
      "hsa012\n",
      "hsa110\n",
      "hsa131\n",
      "hsa121\n",
      "hsa051\n",
      "hsa032\n",
      "hsa036\n",
      "hsa400\n",
      "hsa029\n",
      "hsa000\n",
      "hsa044\n",
      "hsa042\n",
      "hsa022\n",
      "hsa035\n",
      "hsa812\n",
      "hsa147\n",
      "hsa048\n",
      "hsa030\n",
      "hsa050\n",
      "hsa054\n",
      "hsa310\n",
      "hsa040\n",
      "hsa031\n",
      "hsa052\n",
      "hsa515\n",
      "hsa090\n",
      "hsa504\n",
      "hsa535\n",
      "hsa536\n",
      "hsa537\n",
      "hsa091\n",
      "hsa990\n",
      "hsa200\n",
      "hsa210\n",
      "hsa100\n"
     ]
    }
   ],
   "source": [
    "folder = \"E:/pathways/KEGG_2021/brite_hierarchies/\"\n",
    "for hsa in meta_pathway_df['hsa_name']:\n",
    "    print(hsa)\n",
    "    url = 'http://rest.kegg.jp/get/' + hsa\n",
    "    r = requests.get(url)\n",
    "    with open(folder+hsa+'.txt', \"w\") as code:\n",
    "        code.write(r.content.decode())"
   ]
  },
  {
   "cell_type": "markdown",
   "metadata": {},
   "source": [
    "## step4：处理下载得到的文件"
   ]
  },
  {
   "cell_type": "code",
   "execution_count": 11,
   "metadata": {},
   "outputs": [
    {
     "name": "stdout",
     "output_type": "stream",
     "text": [
      "hsa000\n",
      "hsa001\n",
      "hsa002\n",
      "hsa003\n",
      "hsa004\n",
      "hsa005\n",
      "hsa006\n",
      "hsa007\n",
      "hsa008\n",
      "hsa009\n",
      "hsa011\n",
      "hsa012\n",
      "hsa016\n",
      "hsa019\n",
      "hsa021\n",
      "hsa022\n",
      "hsa029\n",
      "hsa030\n",
      "hsa031\n",
      "hsa032\n",
      "hsa035\n",
      "hsa036\n",
      "hsa040\n",
      "hsa041\n",
      "hsa042\n",
      "hsa044\n",
      "hsa048\n",
      "hsa050\n",
      "hsa051\n",
      "hsa052\n",
      "hsa054\n",
      "hsa090\n",
      "hsa091\n",
      "hsa100\n",
      "hsa110\n",
      "hsa121\n",
      "hsa131\n",
      "hsa147\n",
      "hsa194\n",
      "hsa199\n",
      "hsa200\n",
      "hsa210\n",
      "hsa310\n",
      "hsa400\n",
      "hsa504\n",
      "hsa515\n",
      "hsa535\n",
      "hsa536\n",
      "hsa537\n",
      "hsa812\n",
      "hsa990\n"
     ]
    }
   ],
   "source": [
    "\n",
    "files = glob.glob('E:/pathways/KEGG_2021/brite_hierarchies/hsa*')\n",
    "res = {}\n",
    "for f in files:\n",
    "    f_name = f.split('\\\\')[1].split(r'.')[0]\n",
    "    print(f_name)\n",
    "    res[f_name] = parseFile(f)\n",
    "    #break"
   ]
  },
  {
   "cell_type": "code",
   "execution_count": 12,
   "metadata": {},
   "outputs": [],
   "source": [
    "f = open('E:/pathways/KEGG_2021/gmtFiles/human/brite_hierarchies.gmt','w')\n",
    "for r in res:\n",
    "    if len(res[r])>0:\n",
    "        metab_name1 = str(meta_pathway_df.loc[meta_pathway_df['hsa_name'] == r]['meta_name'].values[0])\n",
    "        metab_name2 = str(meta_pathway_df.loc[meta_pathway_df['hsa_name'] == r]['sum_name'].values[0])\n",
    "        genes = '\\t'.join(res[r])\n",
    "        f.write(metab_name1+'\\t'+metab_name2[6:len(metab_name2)]+'\\t'+genes+'\\n')\n",
    "f.flush()\n",
    "f.close()"
   ]
  },
  {
   "cell_type": "code",
   "execution_count": 13,
   "metadata": {},
   "outputs": [],
   "source": [
    "f.close()"
   ]
  },
  {
   "cell_type": "code",
   "execution_count": 14,
   "metadata": {
    "scrolled": true
   },
   "outputs": [
    {
     "data": {
      "text/plain": [
       "{'09181 Protein families: metabolism',\n",
       " '09182 Protein families: genetic information processing',\n",
       " '09183 Protein families: signaling and cellular processes',\n",
       " '09184 RNA family',\n",
       " '09185 Viral protein families'}"
      ]
     },
     "execution_count": 14,
     "metadata": {},
     "output_type": "execute_result"
    }
   ],
   "source": [
    "set(meta_pathway_df['sum_name'])"
   ]
  },
  {
   "cell_type": "code",
   "execution_count": 110,
   "metadata": {},
   "outputs": [
    {
     "data": {
      "text/html": [
       "<div>\n",
       "<style scoped>\n",
       "    .dataframe tbody tr th:only-of-type {\n",
       "        vertical-align: middle;\n",
       "    }\n",
       "\n",
       "    .dataframe tbody tr th {\n",
       "        vertical-align: top;\n",
       "    }\n",
       "\n",
       "    .dataframe thead th {\n",
       "        text-align: right;\n",
       "    }\n",
       "</style>\n",
       "<table border=\"1\" class=\"dataframe\">\n",
       "  <thead>\n",
       "    <tr style=\"text-align: right;\">\n",
       "      <th></th>\n",
       "      <th>sum_name</th>\n",
       "      <th>meta_name</th>\n",
       "      <th>hsa_name</th>\n",
       "    </tr>\n",
       "  </thead>\n",
       "  <tbody>\n",
       "    <tr>\n",
       "      <th>79</th>\n",
       "      <td>09107 Glycan biosynthesis and metabolism</td>\n",
       "      <td>Other glycan degradation</td>\n",
       "      <td>hsa00511</td>\n",
       "    </tr>\n",
       "  </tbody>\n",
       "</table>\n",
       "</div>"
      ],
      "text/plain": [
       "                                    sum_name                  meta_name  \\\n",
       "79  09107 Glycan biosynthesis and metabolism  Other glycan degradation    \n",
       "\n",
       "    hsa_name  \n",
       "79  hsa00511  "
      ]
     },
     "execution_count": 110,
     "metadata": {},
     "output_type": "execute_result"
    }
   ],
   "source": [
    "meta_pathway_df.loc[meta_pathway_df['hsa_name'] == 'hsa00511']"
   ]
  },
  {
   "cell_type": "markdown",
   "metadata": {},
   "source": [
    "### 小鼠\n",
    "* step3：下载对应链接\n",
    "* step4：处理下载得到的文件"
   ]
  },
  {
   "cell_type": "code",
   "execution_count": null,
   "metadata": {},
   "outputs": [
    {
     "name": "stdout",
     "output_type": "stream",
     "text": [
      "mmu000\n",
      "mmu001\n",
      "mmu009\n",
      "mmu002\n",
      "mmu003\n",
      "mmu005\n",
      "mmu011\n",
      "mmu004\n",
      "mmu008\n",
      "mmu006\n",
      "mmu007\n",
      "mmu199\n",
      "mmu194\n",
      "mmu000\n",
      "mmu021\n",
      "mmu019\n",
      "mmu041\n",
      "mmu011\n",
      "mmu009\n",
      "mmu016\n",
      "mmu012\n",
      "mmu110\n",
      "mmu131\n",
      "mmu121\n",
      "mmu051\n",
      "mmu032\n",
      "mmu036\n",
      "mmu400\n",
      "mmu029\n",
      "mmu000\n",
      "mmu044\n",
      "mmu042\n",
      "mmu022\n",
      "mmu035\n",
      "mmu812\n",
      "mmu147\n",
      "mmu048\n",
      "mmu030\n",
      "mmu050\n",
      "mmu054\n",
      "mmu310\n",
      "mmu040\n",
      "mmu031\n",
      "mmu052\n",
      "mmu515\n",
      "mmu090\n",
      "mmu504\n",
      "mmu535\n",
      "mmu536\n",
      "mmu537\n",
      "mmu091\n"
     ]
    }
   ],
   "source": [
    "folder = \"E:/pathways/KEGG_2021/brite_hierarchies/mouse/\"\n",
    "for mmu in meta_pathway_df['hsa_name']:\n",
    "    mmu = mmu.replace('hsa','mmu')\n",
    "    print(mmu)\n",
    "    url = 'http://rest.kegg.jp/get/' + mmu\n",
    "    r = requests.get(url)\n",
    "    #print(len(r.content.decode()))\n",
    "    if len(r.content.decode()) > 0:\n",
    "        with open(folder+mmu+'.txt', \"w\") as code:\n",
    "            code.write(r.content.decode())"
   ]
  },
  {
   "cell_type": "code",
   "execution_count": 31,
   "metadata": {
    "scrolled": true
   },
   "outputs": [
    {
     "name": "stdout",
     "output_type": "stream",
     "text": [
      "mmu04110\n",
      "mmu04114\n",
      "mmu04115\n",
      "mmu04136\n",
      "mmu04137\n",
      "mmu04140\n",
      "mmu04142\n",
      "mmu04144\n",
      "mmu04145\n",
      "mmu04146\n",
      "mmu04210\n",
      "mmu04215\n",
      "mmu04216\n",
      "mmu04217\n",
      "mmu04218\n",
      "mmu04510\n",
      "mmu04520\n",
      "mmu04530\n",
      "mmu04540\n",
      "mmu04550\n",
      "mmu04810\n"
     ]
    }
   ],
   "source": [
    "import glob\n",
    "files = glob.glob(folder+'mmu*')\n",
    "res = {}\n",
    "for f in files:\n",
    "    f_name = f.split('\\\\')[1].split(r'.')[0]\n",
    "    print(f_name)\n",
    "    res[f_name] = parseFile(f)"
   ]
  },
  {
   "cell_type": "code",
   "execution_count": 32,
   "metadata": {},
   "outputs": [],
   "source": [
    "f = open('E:/pathways/KEGG_2021/gmtFiles/mouse/brite_hierarchies.gmt','w')\n",
    "for r in res:\n",
    "    if len(res[r])>0:\n",
    "        metab_name1 = str(meta_pathway_df.loc[meta_pathway_df['hsa_name'] == r.replace('mmu','hsa')]['meta_name'].values[0])\n",
    "        metab_name2 = str(meta_pathway_df.loc[meta_pathway_df['hsa_name'] == r.replace('mmu','hsa')]['sum_name'].values[0])\n",
    "        genes = '\\t'.join(res[r])\n",
    "        f.write(metab_name1+'\\t'+metab_name2[6:len(metab_name2)]+'\\t'+genes+'\\n')\n",
    "f.flush()\n",
    "f.close()"
   ]
  },
  {
   "cell_type": "code",
   "execution_count": null,
   "metadata": {},
   "outputs": [],
   "source": []
  }
 ],
 "metadata": {
  "kernelspec": {
   "display_name": "Python 3",
   "language": "python",
   "name": "python3"
  },
  "language_info": {
   "codemirror_mode": {
    "name": "ipython",
    "version": 3
   },
   "file_extension": ".py",
   "mimetype": "text/x-python",
   "name": "python",
   "nbconvert_exporter": "python",
   "pygments_lexer": "ipython3",
   "version": "3.6.5"
  }
 },
 "nbformat": 4,
 "nbformat_minor": 2
}
